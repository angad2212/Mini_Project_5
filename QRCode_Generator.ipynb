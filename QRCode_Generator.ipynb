{
  "nbformat": 4,
  "nbformat_minor": 0,
  "metadata": {
    "colab": {
      "provenance": [],
      "include_colab_link": true
    },
    "kernelspec": {
      "name": "python3",
      "display_name": "Python 3"
    },
    "language_info": {
      "name": "python"
    }
  },
  "cells": [
    {
      "cell_type": "markdown",
      "metadata": {
        "id": "view-in-github",
        "colab_type": "text"
      },
      "source": [
        "<a href=\"https://colab.research.google.com/github/angad2212/Mini_Project_5/blob/main/QRCode_Generator.ipynb\" target=\"_parent\"><img src=\"https://colab.research.google.com/assets/colab-badge.svg\" alt=\"Open In Colab\"/></a>"
      ]
    },
    {
      "cell_type": "code",
      "execution_count": 2,
      "metadata": {
        "id": "GV3tYINlbjYx",
        "colab": {
          "base_uri": "https://localhost:8080/"
        },
        "outputId": "a1e64b2c-676e-422a-d409-66699d8f8fcb"
      },
      "outputs": [
        {
          "output_type": "stream",
          "name": "stdout",
          "text": [
            "Looking in indexes: https://pypi.org/simple, https://us-python.pkg.dev/colab-wheels/public/simple/\n",
            "Requirement already satisfied: pyqrcode in /usr/local/lib/python3.10/dist-packages (1.2.1)\n",
            "Requirement already satisfied: pypng in /usr/local/lib/python3.10/dist-packages (0.20220715.0)\n"
          ]
        }
      ],
      "source": [
        "!pip install pyqrcode pypng\n",
        "#This command uses the pip package manager to install two Python packages: pyqrcode and pypng"
      ]
    },
    {
      "cell_type": "markdown",
      "source": [
        "1) pyqrcode: This package provides a simple way to generate QR codes (Quick Response codes) in Python. QR codes are two-dimensional barcodes that can be scanned using a QR code reader or a smartphone camera. The pyqrcode package allows you to create QR codes from text, URLs, or other data.\n",
        "\n",
        "2) pypng: This package provides support for reading and writing PNG (Portable Network Graphics) image files in Python. PNG is a popular image file format that supports lossless compression and transparency. The pypng package enables you to work with PNG images programmatically, such as creating, modifying, or extracting data from PNG files."
      ],
      "metadata": {
        "id": "VQJoIAWde8dz"
      }
    },
    {
      "cell_type": "code",
      "source": [
        "'''\n",
        "Python Program to Generate QR Code\n",
        "'''\n",
        "\n",
        "# Import the necessary module!\n",
        "import pyqrcode\n",
        "\n",
        "# Define the data:\n",
        "# We need some text that we want to convert as our QR Code. \n",
        "data = \"https://amazon.in\"\n",
        "\n",
        "# Create qrcode:\n",
        "# Now that we have the data with us, we can move forward and \n",
        "# make use of the package we just imported. Let's create an variable.\n",
        "# We will use the create method (as it results in a cleaner looking code) on data.\n",
        "qr = pyqrcode.create(data)\n",
        "\n",
        "# Save the qrcode in png format with proper scaling:\n",
        "# Now let's store it in .png format with proper scaling.\n",
        "qr.png(\"random.png\", scale= 5)\n",
        "\n",
        "#After executing this code, a file named \"random.png\" will be created in the same directory, \n",
        "#containing the generated QR Code image that represents the URL \"https://amazon.in\"."
      ],
      "metadata": {
        "id": "M9SkWl8Mblkl"
      },
      "execution_count": 4,
      "outputs": []
    }
  ]
}